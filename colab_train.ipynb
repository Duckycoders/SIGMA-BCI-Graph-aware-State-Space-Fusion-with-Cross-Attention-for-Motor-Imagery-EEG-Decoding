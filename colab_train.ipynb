{
  "cells": [
    {
      "cell_type": "markdown",
      "metadata": {},
      "source": [
        "# BCI运动想象EEG解码 - Google Colab训练\n",
        "\n",
        "这个notebook用于在Google Colab中训练BCI深度学习模型，包含完整的Mamba和图卷积功能。\n"
      ]
    },
    {
      "cell_type": "markdown",
      "metadata": {},
      "source": [
        "## 1. 环境设置\n"
      ]
    },
    {
      "cell_type": "code",
      "execution_count": null,
      "metadata": {},
      "outputs": [],
      "source": [
        "# 检查GPU\n",
        "!nvidia-smi\n",
        "\n",
        "# 克隆项目（替换为您的GitHub仓库地址）\n",
        "!git clone https://github.com/YOUR_USERNAME/BCI.git\n",
        "%cd BCI\n"
      ]
    },
    {
      "cell_type": "code",
      "execution_count": null,
      "metadata": {},
      "outputs": [],
      "source": [
        "# 运行环境设置脚本\n",
        "!python colab_setup.py\n"
      ]
    }
  ],
  "metadata": {
    "language_info": {
      "name": "python"
    }
  },
  "nbformat": 4,
  "nbformat_minor": 2
}
